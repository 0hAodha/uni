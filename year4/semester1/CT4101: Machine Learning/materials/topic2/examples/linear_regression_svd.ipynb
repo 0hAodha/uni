{
 "cells": [
  {
   "cell_type": "markdown",
   "metadata": {},
   "source": [
    "#### CT4101 Machine learning, Semester 1 2024-2025\n",
    "# Linear regression using numpy and scikit-learn\n",
    "\n",
    "#### 18 September 2024"
   ]
  },
  {
   "cell_type": "markdown",
   "metadata": {},
   "source": [
    "Machine learning (ML) algorithms allow a computer program to learn to improve its performance at a specified task with experience. ML algorithms may be applied to tasks such as classification, clustering, regression, transcription, translation, anomaly detection and sequential decision making (e.g. in Markov decision processes or Markov games). The benefits of ML research are beginning to be felt in society; outputs of ML research include useful everyday services that can recognise handwriting, protect users from email spam and financial fraud, and recommend suitable products or services according to a customer's preferences."
   ]
  },
  {
   "cell_type": "markdown",
   "metadata": {},
   "source": [
    "Linear regression in one or more variables is one of the most common tasks which must be solved by machine learning practitioners. Given a set of measurements for $j$ independent scalar variables $\\{x_{1},x_{2},...,x_{j}\\}$ and a corresponding set of observations for a dependent scalar variable $y$, the goal of linear regression is to fit a model which may be used to predict $y$ for any given values of $\\{x_{1},x_{2},...,x_{j}\\}$. Formally (Eqn. 1): \n",
    "\n",
    "\\begin{equation}\n",
    "    y = \\theta_{0} + \\theta_{1} x_1 + \\theta_{2} x_2 + ... + \\theta_{j} x_j\n",
    "\\end{equation}\n",
    "\n",
    "where $\\{\\theta_{1},\\theta_{2},...,\\theta_{j}\\}$ are the weights for each independent variable and $\\theta_{0}$ accounts for any constant observed effect on the value of $y$ (similar to the intercept value in the equation for a simple straight line on a 2D plane). For a given training set, weights must be learned or found which minimise the error (defined by a cost function) between the predicted and actual values for the target variable $y$. One commonly used ML technique for solving linear regression problems is to apply gradient descent to minimise a squared error cost function."
   ]
  },
  {
   "cell_type": "markdown",
   "metadata": {},
   "source": [
    "This notebook demonstrates how a simple linear regression problem may be solved (by simple linear regression, we mean that there is only one indepenent variable).\n",
    "Simple linear regression creates a model that is equivalent to the representation of a straight line on a 2D plane, and you may remember the following well-known equation from your school days (Eqn. 2):\n",
    "\n",
    "\\begin{equation}\n",
    "    y = m x + c\n",
    "\\end{equation}\n",
    "\n",
    "where $m$ is the slope of the line, and $c$ is the intercept value. The intercept accounts for constant factors that affect the value of $y$. Eqn. 1 above generalises Eqn. 2 to the case where there is more than one independent variable that influences the value of $y$.\n",
    "\n",
    "Where there is just one independent variable, Eqn. 1 and Eqn. 2 are equivalent: in Eqn. 1 $\\theta_{0}$ is the intercept ($c$ in Eqn. 2), while $\\theta_{1}$ in Eqn. 1 is equivalent to $m$ in Eqn. 2.\n",
    "\n",
    "Let's begin by setting up a simple training dataset in a matrix (numpy array), and then extracting the column vectors for the independent variable $x$ and the dependent variable $y$."
   ]
  },
  {
   "cell_type": "code",
   "execution_count": 2,
   "metadata": {},
   "outputs": [
    {
     "name": "stdout",
     "output_type": "stream",
     "text": [
      "Data in pandas dataframe: \n",
      "     independent variable   dependent variable\n",
      "0                     30                   70\n",
      "1                     40                   90\n",
      "2                     40                  100\n",
      "3                     50                  120\n",
      "4                     50                  130\n",
      "5                     50                  150\n",
      "6                     60                  160\n",
      "7                     70                  190\n",
      "8                     70                  200\n",
      "9                     80                  200\n",
      "10                    80                  220\n",
      "11                    80                  230\n",
      "Numpy 2D array:\n",
      " [[ 30  70]\n",
      " [ 40  90]\n",
      " [ 40 100]\n",
      " [ 50 120]\n",
      " [ 50 130]\n",
      " [ 50 150]\n",
      " [ 60 160]\n",
      " [ 70 190]\n",
      " [ 70 200]\n",
      " [ 80 200]\n",
      " [ 80 220]\n",
      " [ 80 230]]\n",
      "x:\n",
      " [[30]\n",
      " [40]\n",
      " [40]\n",
      " [50]\n",
      " [50]\n",
      " [50]\n",
      " [60]\n",
      " [70]\n",
      " [70]\n",
      " [80]\n",
      " [80]\n",
      " [80]]\n",
      "y:\n",
      " [[ 70]\n",
      " [ 90]\n",
      " [100]\n",
      " [120]\n",
      " [130]\n",
      " [150]\n",
      " [160]\n",
      " [190]\n",
      " [200]\n",
      " [200]\n",
      " [220]\n",
      " [230]]\n"
     ]
    }
   ],
   "source": [
    "import numpy as np\n",
    "import pandas as pd\n",
    "\n",
    "# dataset 1. Here we write the data directly into a 2D numpy array\n",
    "\"\"\"data = np.array([\n",
    "    [80, 28.3],\n",
    "    [110, 51.5],\n",
    "    [110, 47.3],\n",
    "    [130, 67.4]\n",
    "])\n",
    "\n",
    "\"\"\"\n",
    "# dataset 2. Here we load a different dataset in from the file external_data.csv using the pandas library\n",
    "df = pd.read_csv(\"external_data.csv\")\n",
    "print(\"Data in pandas dataframe: \\n\", df)\n",
    "data = df.to_numpy()\n",
    "\n",
    "print(\"Numpy 2D array:\\n\", data)\n",
    "\n",
    "# Create and print x - the column vector of measured values for the independent variable\n",
    "x = data[:,0].reshape((-1, 1)) # the -1 here means the length of the column vector will be inferred\n",
    "print(\"x:\\n\", x)\n",
    "\n",
    "# Create and print y - the column vector of observed values for the dependent variable\n",
    "y = np.array([data[:,1]]).reshape(-1,1)\n",
    "print(\"y:\\n\", y)"
   ]
  },
  {
   "cell_type": "markdown",
   "metadata": {},
   "source": [
    "Now we'll plot the values of $x$ and $y$ using the scatter plot from the matplotlib library (https://matplotlib.org/3.1.1/api/_as_gen/matplotlib.pyplot.scatter.html)"
   ]
  },
  {
   "cell_type": "code",
   "execution_count": 3,
   "metadata": {},
   "outputs": [
    {
     "data": {
      "image/png": "[encoded data removed]",
      "text/plain": [
       "<Figure size 640x480 with 1 Axes>"
      ]
     },
     "metadata": {},
     "output_type": "display_data"
    }
   ],
   "source": [
    "import matplotlib.pyplot as plt\n",
    "plt.scatter(x, y, marker=\"x\")\n",
    "plt.xlim([0, max(x)+10])\n",
    "plt.ylim([0, max(y)+10])\n",
    "plt.xlabel(\"$x$ (independent variable)\")\n",
    "plt.ylabel(\"$y$ (observed dependent variable)\")\n",
    "plt.show()"
   ]
  },
  {
   "cell_type": "markdown",
   "metadata": {},
   "source": [
    "Now that we have an idea what our data looks like, let's try fitting a simple linear regression model to it. We're going to use the LinearRegression model from scikit-learn (https://scikit-learn.org/stable/modules/generated/sklearn.linear_model.LinearRegression.html)"
   ]
  },
  {
   "cell_type": "code",
   "execution_count": 4,
   "metadata": {},
   "outputs": [
    {
     "name": "stdout",
     "output_type": "stream",
     "text": [
      "Model intercept: -20.000000000000057\n",
      "Model coefficient: 3.000000000000001\n",
      "Model predictions:\n",
      " [[ 70.]\n",
      " [100.]\n",
      " [100.]\n",
      " [130.]\n",
      " [130.]\n",
      " [130.]\n",
      " [160.]\n",
      " [190.]\n",
      " [190.]\n",
      " [220.]\n",
      " [220.]\n",
      " [220.]]\n"
     ]
    }
   ],
   "source": [
    "from sklearn.linear_model import LinearRegression\n",
    "model = LinearRegression()  # create a new LinearRegression object that will hold our model\n",
    "model.fit(x, y)  # the .fit() method calculates the model parameters\n",
    "theta_0 = model.intercept_[0]  # the intercept accounts for constant effects, \\theta_0 in Eqn. 1 above\n",
    "theta_1 = model.coef_[0][0] # this is the \"slope\", \\theta_1 in Eqn. 2 above\n",
    "predictions = model.predict(x)\n",
    "print(\"Model intercept:\", theta_0)  \n",
    "print(\"Model coefficient:\", theta_1)  \n",
    "print(\"Model predictions:\\n\", predictions) "
   ]
  },
  {
   "cell_type": "markdown",
   "metadata": {},
   "source": [
    "Next let's plot the linear regression model, along with the original values and the values predicted by our model."
   ]
  },
  {
   "cell_type": "code",
   "execution_count": 37,
   "metadata": {},
   "outputs": [
    {
     "data": {
      "image/png": "[encoded data removed]",
      "text/plain": [
       "<Figure size 432x288 with 1 Axes>"
      ]
     },
     "metadata": {
      "needs_background": "light"
     },
     "output_type": "display_data"
    }
   ],
   "source": [
    "plt.scatter(x, y, marker=\"x\", label=\"Observed values\")\n",
    "plt.scatter(x, predictions, marker=\"o\", color=\"red\", label=\"Predicted values\")\n",
    "reg_x_vals = np.linspace(0, max(x)+10, 10)\n",
    "reg_y_vals = np.array([(theta_1 * x_i) + theta_0 for x_i in reg_x_vals])\n",
    "plt.plot(reg_x_vals, reg_y_vals, color=\"black\", label=\"Regression line\")\n",
    "plt.xlim([0, max(x)+10])\n",
    "plt.ylim([0, max(y)+10])\n",
    "plt.xlabel(\"$x$ (independent variable)\")\n",
    "plt.ylabel(\"$y$ (observed dependent variable)\")\n",
    "plt.legend()\n",
    "plt.show()"
   ]
  },
  {
   "cell_type": "markdown",
   "metadata": {},
   "source": [
    "Now let's quantify how accurately our model fits the training dataset. A commonly used metric for regression models is root-mean-square-error (RMSE), which may be calculated as:\n",
    "\n",
    "\\begin{equation}\n",
    "    \\label{eqn:rmse}\n",
    "     RMSE = \\sqrt{\\frac{1}{m}\\Sigma_{i=1}^{m}{\\Big(\\hat{y}_i - \\vec{y}_i\\Big)^2}}\n",
    "\\end{equation}\n",
    "\n",
    "where $\\hat{y}$ is the vector of predictions from our model for each $x$ value in our training dataset, $\\vec{y}$ is a vector containing the actual observed values for each x value in our training dataset.\n",
    "\n",
    "The coefficent of determination $R^2$ is another commonly used metric for regression models.\n",
    "\n",
    "N.B. for the sake of simplicity, the RMSE and $R^2$ metrics are calculated using training data only. To evaluate the model properly we should also claculate these metrics separately on on independent test data (more on this in later lectures!) "
   ]
  },
  {
   "cell_type": "code",
   "execution_count": 38,
   "metadata": {},
   "outputs": [
    {
     "name": "stdout",
     "output_type": "stream",
     "text": [
      "RMSE: 1.8894703065186529\n",
      "Coefficient of determination: 0.9815885948385498\n"
     ]
    }
   ],
   "source": [
    "# this function calculates RMSE as per the equation above\n",
    "def rmse(predictions, targets):\n",
    "    return np.sqrt(((predictions - targets) ** 2).mean())\n",
    "\n",
    "# calculate and print the RMSE\n",
    "calculated_rmse1 = rmse(predictions, y)\n",
    "print(\"RMSE:\", calculated_rmse1)\n",
    "\n",
    "# calculate and print the coefficient of determination\n",
    "r_sq = model.score(x, y)\n",
    "print(\"Coefficient of determination:\", r_sq)"
   ]
  },
  {
   "cell_type": "markdown",
   "metadata": {},
   "source": [
    "# Developing a linear regression model using numpy and the singular value decomposition\n",
    "This section will demonstrate an alternative method to develop a least squares linear regression model using the Singular Value Decomposition (SVD).\n",
    "\n",
    "Matrix decomposition techniques allow a given matrix to be factorised as a product of matrices. Eigendecomposition is one of the most widely used matrix decomposition methods, which allows a matrix to be decomposed into a set of eigenvectors and eigenvalues. The SVD may be used to factorise a real or complex matrix into singular values and singular vectors. All real matrices have a SVD, which makes it more generally applicable than other matrix factorisation methods (e.g. eigendecompositions are not defined for $m \\times n$ matrices, i.e. matrices which are not square). The SVD may be used to factorise a matrix $A$ as follows:\n",
    "\n",
    "\\begin{equation}\n",
    "\\label{eqn:svd}\n",
    "A = U\\Sigma V^{T}\n",
    "\\end{equation}\n",
    "\n",
    "where: \n",
    "* $A$ is a $m \\times n$ matrix.\n",
    "* $U$ is a $m \\times m$ orthogonal matrix (i.e. a matrix with rows and columns comprised of orthogonal unit vectors) containing the **left singular vectors**. The left singular vectors are a set of orthonormal (i.e. both orthogonal and normal) eigenvectors of $AA^{T}$.\n",
    "* $\\Sigma$ is a $m \\times n$ diagonal matrix, where each of the non-negative diagonal entries $\\{\\sigma_{1},\\sigma_{2},...\\}$ is a **singular value**. The singular values are are the square roots of the eigenvalues of $A^{T}A$ and of $AA^{T}$. Note that there are $\\mathrm{min}(m,n)$ singular values.\n",
    "* $V$ is an $n \\times n$ orthogonal matrix containing the **right singular vectors**. The right singular vectors are a set of orthonormal eigenvectors of $A^{T}A$.\n",
    "\n",
    "\\begin{equation}\n",
    "\\label{eqn:svd_k}\n",
    "A_k = U_k \\Sigma_k V^{T}_k\n",
    "\\end{equation}\n",
    "\n",
    "Taking a linear algebra perspective, a linear regression problem may be modelled as follows (Eqn. 3):\n",
    "\n",
    "\\begin{equation}\n",
    "    X \\vec{\\theta} = \\vec{y}\n",
    "\\end{equation}\n",
    "\n",
    "where $X$ is a matrix containing the measured values for the independent variables $\\{x_{1},x_{2},...,x_{j}\\}$, $\\vec{\\theta}$ is a column vector containing the set of model weights $\\{\\theta_{0},\\theta_{1},\\theta_{2},...,\\theta_{j}\\}$ and $\\vec{y}$ is a column vector containing the observations of the dependent variable."
   ]
  },
  {
   "cell_type": "markdown",
   "metadata": {},
   "source": [
    "Note that when constructing $X$, to account for constant observed effects on the value of the target variable $y$, an all-ones column vector should be appended to the left of the columns containing the observations of the dependent variables, so that the format of $X$ is as follows (Eqn. 4):\n",
    "\n",
    "\\begin{equation}\n",
    "X=\n",
    "  \\begin{bmatrix}\n",
    "    1 & x_{1,1} & x_{1,2} & ... & x_{1,j} \\\\\n",
    "    1 & x_{2,1} & x_{2,2} & ... & x_{2,j} \\\\\n",
    "    ... & ...   & ...     & ... & ... \\\\\n",
    "    1 & x_{m,1} & x_{m,2} & ... & x_{m,j} \n",
    "  \\end{bmatrix}\n",
    "\\end{equation}\n",
    "\n",
    "where $m$ is the number of data points in the training set, and the notation $x_{m,j}$ refers to the observation in the $m$th data point of the $j$th independent variable."
   ]
  },
  {
   "cell_type": "markdown",
   "metadata": {},
   "source": [
    "If $X$ is invertible, the set of model weights could easily computed by premultiplying each side of Eqn. 3 by $X^{-1}$ to obtain the following result (Eqn. 5):\n",
    "\n",
    "\\begin{align}\n",
    "    \\label{eqn:linregmatrixnaive}\n",
    "    X^{-1} X \\vec{\\theta} = X^{-1} \\vec{y} \\nonumber\\\\\n",
    "    \\vec{\\theta} = X^{-1} \\vec{y}\n",
    "\\end{align}"
   ]
  },
  {
   "cell_type": "markdown",
   "metadata": {},
   "source": [
    "However, a matrix is only invertible if it is square (i.e. $m=n$) and if all of its columns are linearly independent. Therefore, while Eqn. 5 could be used to calculate $\\vec{\\theta}$ exactly for a given $X$ and $\\vec{y}$, assuming that $X$ is invertible greatly restricts its applicability, requiring all observed values of the target variable to fit the model exactly. If $X$ has more rows than columns (i.e. $m$ > $n$) it is possible for Eqn. 5 to have no solution, whereas if $X$ has more columns than rows (i.e. $m$ < $n$) it is possible for Eqn. 5 to have multiple different solutions."
   ]
  },
  {
   "cell_type": "markdown",
   "metadata": {},
   "source": [
    "A more general result to compute an approximation of $\\vec{\\theta}$ which minimises the Euclidian norm $|| X \\vec{\\theta} - {\\vec{y}} ||_2$ may be developed using the Moore-Penrose psuedoinverse. The psuedoinverse $A^{+}$ of a given matrix $A$ may be calculated as (Eqn. 6):\n",
    "\n",
    "\\begin{equation}\n",
    "    \\label{eqn:psuedoinverse}\n",
    "    A^{+} = V \\Sigma^{+} U^{T}\n",
    "\\end{equation}\n",
    "\n",
    "where $U$, $\\Sigma$ and $V$ are the SVD of A. $\\Sigma^{+}$ is obtained by first taking the reciprocal of the nonzero entries of the diagonal matrix $\\Sigma$ containing the singular values and then taking the transpose of the resulting matrix."
   ]
  },
  {
   "cell_type": "markdown",
   "metadata": {},
   "source": [
    "To compute the approximation of the weights $\\vec{\\theta}$, $X^{+}$ may be used as a substitute for $X^{-1}$ in Eqn. 5 to obtain the following result (Eqn. 7):\n",
    "\n",
    "\\begin{align}\n",
    "    \\label{eqn:linregmatrixpsuedo}\n",
    "    \\vec{\\theta} = X^{+} \\vec{y}\n",
    "\\end{align}"
   ]
  },
  {
   "cell_type": "code",
   "execution_count": 39,
   "metadata": {},
   "outputs": [
    {
     "name": "stdout",
     "output_type": "stream",
     "text": [
      "X:\n",
      " [[  1.  80.]\n",
      " [  1. 110.]\n",
      " [  1. 110.]\n",
      " [  1. 130.]]\n"
     ]
    }
   ],
   "source": [
    "# the dimensions of the matrix X\n",
    "m = len(data)\n",
    "n = len(data[0])  # add an additional column for the all-ones vector\n",
    "\n",
    "# Create and print X - the matrix of observed values for the independent variables\n",
    "X = np.c_[np.ones(m), data[:,0]]\n",
    "print(\"X:\\n\", X)"
   ]
  },
  {
   "cell_type": "code",
   "execution_count": 40,
   "metadata": {},
   "outputs": [
    {
     "name": "stdout",
     "output_type": "stream",
     "text": [
      "Psuedoinverse of X:\n",
      " [[ 2.56862745e+00  3.92156863e-02  3.92156863e-02 -1.64705882e+00]\n",
      " [-2.15686275e-02  1.96078431e-03  1.96078431e-03  1.76470588e-02]]\n"
     ]
    }
   ],
   "source": [
    "# calculate and print the Moore-Penrose psuedoinverse of X\n",
    "X_pi = np.linalg.pinv(X)\n",
    "print(\"Psuedoinverse of X:\\n\", X_pi)"
   ]
  },
  {
   "cell_type": "code",
   "execution_count": 41,
   "metadata": {},
   "outputs": [
    {
     "name": "stdout",
     "output_type": "stream",
     "text": [
      "Vector of caclulated model weights:\n",
      " [[-34.44509804]\n",
      " [  0.7727451 ]]\n"
     ]
    }
   ],
   "source": [
    "# calculate and print the values in the model weights vector theta using Eqn. 7\n",
    "theta = np.dot(X_pi, y)\n",
    "print(\"Vector of caclulated model weights:\\n\",theta)"
   ]
  },
  {
   "cell_type": "code",
   "execution_count": 42,
   "metadata": {},
   "outputs": [
    {
     "name": "stdout",
     "output_type": "stream",
     "text": [
      "[[27.3745098 ]\n",
      " [50.55686275]\n",
      " [50.55686275]\n",
      " [66.01176471]]\n"
     ]
    }
   ],
   "source": [
    "# calculate and print the predicted y values when using the values from X\n",
    "y_hat = np.dot(X, theta)\n",
    "print(y_hat)"
   ]
  },
  {
   "cell_type": "markdown",
   "metadata": {},
   "source": [
    "Finally, let's quantify how accurately our model fits the training dataset as before."
   ]
  },
  {
   "cell_type": "code",
   "execution_count": 43,
   "metadata": {},
   "outputs": [
    {
     "name": "stdout",
     "output_type": "stream",
     "text": [
      "1.889470306518652\n"
     ]
    }
   ],
   "source": [
    "# calculate and print the RMSE\n",
    "calculated_rmse2 = rmse(y_hat, y)\n",
    "print(calculated_rmse2)"
   ]
  }
 ],
 "metadata": {
  "kernelspec": {
   "display_name": "ct4101",
   "language": "python",
   "name": "ct4101"
  },
  "language_info": {
   "codemirror_mode": {
    "name": "ipython",
    "version": 3
   },
   "file_extension": ".py",
   "mimetype": "text/x-python",
   "name": "python",
   "nbconvert_exporter": "python",
   "pygments_lexer": "ipython3",
   "version": "3.10.7"
  }
 },
 "nbformat": 4,
 "nbformat_minor": 4
}

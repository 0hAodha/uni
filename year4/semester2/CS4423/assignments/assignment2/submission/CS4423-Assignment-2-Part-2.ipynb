{
 "cells": [
  {
   "cell_type": "markdown",
   "id": "e4dd8d87",
   "metadata": {
    "toc": true
   },
   "source": [
    "<h1>Table of Contents<span class=\"tocSkip\"></span></h1>\n",
    "<div class=\"toc\"><ul class=\"toc-item\"><li><ul class=\"toc-item\"><li><span><a href=\"#Instructions-and-Collaboration-Policy\" data-toc-modified-id=\"Instructions-and-Collaboration-Policy-0.1\"><span class=\"toc-item-num\">0.1&nbsp;&nbsp;</span>Instructions and Collaboration Policy</a></span></li></ul></li><li><span><a href=\"#Preliminaries\" data-toc-modified-id=\"Preliminaries-1\"><span class=\"toc-item-num\">1&nbsp;&nbsp;</span>Preliminaries</a></span><ul class=\"toc-item\"><li><span><a href=\"#Task-1.1:-Give-you-name,-ID,-and-list-of-collaborators\" data-toc-modified-id=\"Task-1.1:-Give-you-name,-ID,-and-list-of-collaborators-1.1\"><span class=\"toc-item-num\">1.1&nbsp;&nbsp;</span>Task 1.1: Give you name, ID, and list of collaborators</a></span></li><li><span><a href=\"#Task-1.2:-Load-any-Python-modules,-and-choose-your-own-colour-for-nodes\" data-toc-modified-id=\"Task-1.2:-Load-any-Python-modules,-and-choose-your-own-colour-for-nodes-1.2\"><span class=\"toc-item-num\">1.2&nbsp;&nbsp;</span>Task 1.2: Load any Python modules, and choose your own colour for nodes</a></span></li></ul></li><li><span><a href=\"#Centrality-Measures\" data-toc-modified-id=\"Centrality-Measures-2\"><span class=\"toc-item-num\">2&nbsp;&nbsp;</span>Centrality Measures</a></span><ul class=\"toc-item\"><li><span><a href=\"#TASK-2.1:-Define-$G_1$-in-networkx-and-draw-it.\" data-toc-modified-id=\"TASK-2.1:-Define-$G_1$-in-networkx-and-draw-it.-2.1\"><span class=\"toc-item-num\">2.1&nbsp;&nbsp;</span>TASK 2.1: Define $G_1$ in <code>networkx</code> and draw it.</a></span></li><li><span><a href=\"#TASK-2.2:-Compute-Centralities\" data-toc-modified-id=\"TASK-2.2:-Compute-Centralities-2.2\"><span class=\"toc-item-num\">2.2&nbsp;&nbsp;</span>TASK 2.2: Compute Centralities</a></span></li><li><span><a href=\"#TASK-2.3:-Draw-the-graph-with-node-size-proportional-to-eigenvector-centrality\" data-toc-modified-id=\"TASK-2.3:-Draw-the-graph-with-node-size-proportional-to-eigenvector-centrality-2.3\"><span class=\"toc-item-num\">2.3&nbsp;&nbsp;</span>TASK 2.3: Draw the graph with node size proportional to eigenvector centrality</a></span></li><li><span><a href=\"#TASK-2.4:-Make-your-own-example\" data-toc-modified-id=\"TASK-2.4:-Make-your-own-example-2.4\"><span class=\"toc-item-num\">2.4&nbsp;&nbsp;</span>TASK 2.4: Make your own example</a></span></li></ul></li><li><span><a href=\"#Random-Networks\" data-toc-modified-id=\"Random-Networks-3\"><span class=\"toc-item-num\">3&nbsp;&nbsp;</span>Random Networks</a></span><ul class=\"toc-item\"><li><span><a href=\"#TASK-3.1:-Count-Triangles\" data-toc-modified-id=\"TASK-3.1:-Count-Triangles-3.1\"><span class=\"toc-item-num\">3.1&nbsp;&nbsp;</span>TASK 3.1: Count Triangles</a></span></li><li><span><a href=\"#TASK-3.2:-Comparing-$G_{ER}(n,m)$-with-graphs-from-social-science\" data-toc-modified-id=\"TASK-3.2:-Comparing-$G_{ER}(n,m)$-with-graphs-from-social-science-3.2\"><span class=\"toc-item-num\">3.2&nbsp;&nbsp;</span>TASK 3.2: Comparing $G_{ER}(n,m)$ with graphs from social science</a></span></li></ul></li><li><span><a href=\"#Extras\" data-toc-modified-id=\"Extras-4\"><span class=\"toc-item-num\">4&nbsp;&nbsp;</span>Extras</a></span></li></ul></div>"
   ]
  },
  {
   "cell_type": "markdown",
   "id": "19989cc4",
   "metadata": {},
   "source": [
    "# CS4423 Assignment 2: Part 2\n",
    "\n",
    "This is a template for your solution to the `networkx` questions on Assignment 2 (Part 2). \n"
   ]
  },
  {
   "cell_type": "markdown",
   "id": "4fc2a5c6",
   "metadata": {},
   "source": [
    "### Instructions and Collaboration Policy\n",
    "\n",
    "This is a homework assignment. You are welcome to collaborate with\n",
    "class-mates if you wish. Please note:\n",
    "* You may collaborate with at most two other people;\n",
    "* Each of you must submit your own copy of your work;\n",
    "* In Cell `[1]`, choose your own node colour in `opts`. It should not be the same as given here (`#ABCDEF`), or the same as your collaborators. For more, see https://matplotlib.org/stable/users/explain/colors/colors.html\n",
    "* If the question asks you to construct an example, then that example should be unique to you (and your collaborators). If copied from anybody else, all involved will score zero.\n",
    "* The file(s) you submit must contain a statement on the collaboration: who you collaborated with, and on what part of the assignment.\n",
    "*  *The use of any AI tools, such as ChatGPT or DeepSeek is prohibited, and will be subject to disciplinary procedures.* \n",
    "* Upload your file, in either **PDF or HTML** formats, to https://universityofgalway.instructure.com/courses/31889/assignments To convert your notebook to `pdf` the easiest method maybe to first export as 'html', then open that in a browser, and then print to pdf.\n",
    "* Your file must include your name and ID number."
   ]
  },
  {
   "cell_type": "markdown",
   "id": "bc5829ef",
   "metadata": {},
   "source": [
    "## Preliminaries"
   ]
  },
  {
   "cell_type": "markdown",
   "id": "eb8aa930",
   "metadata": {},
   "source": [
    "### Task 1.1: Give you name, ID, and list of collaborators\n",
    "\n",
    "**Your name goes here:** Andrew Hayes\n",
    "\n",
    "**Your ID number goes here:** 21321503\n",
    "\n",
    "*Place your collaboration statement here:*"
   ]
  },
  {
   "cell_type": "markdown",
   "id": "50688c85",
   "metadata": {},
   "source": [
    "### Task 1.2: Load any Python modules, and choose your own colour for nodes"
   ]
  },
  {
   "cell_type": "code",
   "execution_count": 1,
   "id": "b96b6a50",
   "metadata": {},
   "outputs": [],
   "source": [
    "import networkx as nx\n",
    "### Change the next line so nodes appear in your favourite colour.\n",
    "opts = { \"with_labels\": True, \"node_color\": '#654321' } # show labels; IMPORTANT: Choose your own colour here"
   ]
  },
  {
   "cell_type": "markdown",
   "id": "145b812c",
   "metadata": {},
   "source": [
    "Other ones that Niall used when preparing solutions. Add any you need:"
   ]
  },
  {
   "cell_type": "code",
   "execution_count": 2,
   "id": "d548d182",
   "metadata": {},
   "outputs": [],
   "source": [
    "import numpy as np\n",
    "import matplotlib.pyplot as plt\n",
    "import random\n",
    "import pandas as pd\n",
    "import math\n",
    "import statistics"
   ]
  },
  {
   "cell_type": "markdown",
   "id": "488bfec3",
   "metadata": {},
   "source": [
    "## Centrality Measures\n",
    "\n",
    "Before you do this set of tasks, it may be helpful to review the example at the end of [Week 7 Part 2](https://www.niallmadden.ie/2425-CS4423/W07/CS4423-W07-Part-2.html)"
   ]
  },
  {
   "cell_type": "markdown",
   "id": "6d7af8b8",
   "metadata": {},
   "source": [
    "**Adjacency Lists**.\\\n",
    "One way of representing a graph is an as  <b>adjacency list</b>. It has one row per node. That row starts with the node label, followed by a colon, followed by a list of its neighbours. For an undirected graph, one does not list an edge twice. \n",
    "\n",
    "Consider the following list, for a graph, $G_1$, on the nodes $\\{1, 2, 3, \\dots, 10\\}$:\n",
    "<code>\n",
    "1: 2 3 4 6 7\n",
    "2: 3\n",
    "3: 4\n",
    "4: 5 8\n",
    "5: 6\n",
    "6: 7\n",
    "7: \n",
    "8: 9 10\n",
    "9:\n",
    "10:\n",
    "</code>\n",
    "\n",
    "So, in the adjacency list for $G_1$, no neighbours of Node 7 are listed, because the associated edges are already accounted for in the neighbour lists on Nodes 1 and 7.\n"
   ]
  },
  {
   "cell_type": "markdown",
   "id": "5920d2d6",
   "metadata": {},
   "source": [
    "### TASK 2.1: Define $G_1$ in `networkx` and draw it.\n",
    "\n",
    "Let $G_1$ be the network prescribed by the adjacency list above. Define it as a `networkx` network, and draw it."
   ]
  },
  {
   "cell_type": "code",
   "execution_count": 3,
   "id": "0cddf432",
   "metadata": {},
   "outputs": [
    {
     "data": {
      "image/png": "[encoded data removed]",
      "text/plain": [
       "<Figure size 640x480 with 1 Axes>"
      ]
     },
     "metadata": {},
     "output_type": "display_data"
    }
   ],
   "source": [
    "G1 = nx.Graph()\n",
    "\n",
    "edges = [\n",
    "    (1, 2), (1, 3), (1, 4), (1, 6), (1, 7),\n",
    "    (2, 3),\n",
    "    (3, 4),\n",
    "    (4, 5), (4, 8),\n",
    "    (5, 6),\n",
    "    (6, 7),\n",
    "    (8, 9), (8, 10)\n",
    "]\n",
    "\n",
    "G1.add_edges_from(edges)\n",
    "nx.draw(G1, **opts)\n"
   ]
  },
  {
   "cell_type": "markdown",
   "id": "7f8a8400",
   "metadata": {},
   "source": [
    "### TASK 2.2: Compute Centralities\n",
    "\n",
    "Compute the Degree, Eigenvector, Closeness, and Betweenness Centralities of the nodes in this graph. Display all four in a table (using a pandas `DataFrame`) sorted by the eigenvector centrality. "
   ]
  },
  {
   "cell_type": "code",
   "execution_count": 4,
   "id": "a6d6c25a",
   "metadata": {},
   "outputs": [],
   "source": [
    "degree_centrality = nx.degree_centrality(G1)\n",
    "eigenvector_centrality = nx.eigenvector_centrality(G1)\n",
    "betweenness_centrality = nx.betweenness_centrality(G1)\n",
    "closeness_centrality = nx.closeness_centrality(G1)\n",
    "\n",
    "centrality_df = pd.DataFrame({\n",
    "    \"Degree\": degree_centrality,\n",
    "    \"Eigenvector\": eigenvector_centrality,\n",
    "    \"Closeness\": closeness_centrality,\n",
    "    \"Betweenness\": betweenness_centrality\n",
    "})\n",
    "\n",
    "centrality_df_sorted = centrality_df.sort_values(by=\"Eigenvector\", ascending=False)"
   ]
  },
  {
   "cell_type": "code",
   "execution_count": 5,
   "id": "652dfa5d",
   "metadata": {},
   "outputs": [
    {
     "data": {
      "text/html": [
       "<div>\n",
       "<style scoped>\n",
       "    .dataframe tbody tr th:only-of-type {\n",
       "        vertical-align: middle;\n",
       "    }\n",
       "\n",
       "    .dataframe tbody tr th {\n",
       "        vertical-align: top;\n",
       "    }\n",
       "\n",
       "    .dataframe thead th {\n",
       "        text-align: right;\n",
       "    }\n",
       "</style>\n",
       "<table border=\"1\" class=\"dataframe\">\n",
       "  <thead>\n",
       "    <tr style=\"text-align: right;\">\n",
       "      <th></th>\n",
       "      <th>Degree</th>\n",
       "      <th>Eigenvector</th>\n",
       "      <th>Closeness</th>\n",
       "      <th>Betweenness</th>\n",
       "    </tr>\n",
       "  </thead>\n",
       "  <tbody>\n",
       "    <tr>\n",
       "      <th>1</th>\n",
       "      <td>0.555556</td>\n",
       "      <td>0.544133</td>\n",
       "      <td>0.600000</td>\n",
       "      <td>0.351852</td>\n",
       "    </tr>\n",
       "    <tr>\n",
       "      <th>4</th>\n",
       "      <td>0.444444</td>\n",
       "      <td>0.424131</td>\n",
       "      <td>0.642857</td>\n",
       "      <td>0.560185</td>\n",
       "    </tr>\n",
       "    <tr>\n",
       "      <th>3</th>\n",
       "      <td>0.333333</td>\n",
       "      <td>0.398195</td>\n",
       "      <td>0.529412</td>\n",
       "      <td>0.064815</td>\n",
       "    </tr>\n",
       "    <tr>\n",
       "      <th>6</th>\n",
       "      <td>0.333333</td>\n",
       "      <td>0.333310</td>\n",
       "      <td>0.450000</td>\n",
       "      <td>0.050926</td>\n",
       "    </tr>\n",
       "    <tr>\n",
       "      <th>2</th>\n",
       "      <td>0.222222</td>\n",
       "      <td>0.296646</td>\n",
       "      <td>0.409091</td>\n",
       "      <td>0.000000</td>\n",
       "    </tr>\n",
       "    <tr>\n",
       "      <th>7</th>\n",
       "      <td>0.222222</td>\n",
       "      <td>0.276219</td>\n",
       "      <td>0.428571</td>\n",
       "      <td>0.000000</td>\n",
       "    </tr>\n",
       "    <tr>\n",
       "      <th>5</th>\n",
       "      <td>0.222222</td>\n",
       "      <td>0.238443</td>\n",
       "      <td>0.473684</td>\n",
       "      <td>0.055556</td>\n",
       "    </tr>\n",
       "    <tr>\n",
       "      <th>8</th>\n",
       "      <td>0.333333</td>\n",
       "      <td>0.166524</td>\n",
       "      <td>0.500000</td>\n",
       "      <td>0.416667</td>\n",
       "    </tr>\n",
       "    <tr>\n",
       "      <th>9</th>\n",
       "      <td>0.111111</td>\n",
       "      <td>0.052423</td>\n",
       "      <td>0.346154</td>\n",
       "      <td>0.000000</td>\n",
       "    </tr>\n",
       "    <tr>\n",
       "      <th>10</th>\n",
       "      <td>0.111111</td>\n",
       "      <td>0.052423</td>\n",
       "      <td>0.346154</td>\n",
       "      <td>0.000000</td>\n",
       "    </tr>\n",
       "  </tbody>\n",
       "</table>\n",
       "</div>"
      ],
      "text/plain": [
       "      Degree  Eigenvector  Closeness  Betweenness\n",
       "1   0.555556     0.544133   0.600000     0.351852\n",
       "4   0.444444     0.424131   0.642857     0.560185\n",
       "3   0.333333     0.398195   0.529412     0.064815\n",
       "6   0.333333     0.333310   0.450000     0.050926\n",
       "2   0.222222     0.296646   0.409091     0.000000\n",
       "7   0.222222     0.276219   0.428571     0.000000\n",
       "5   0.222222     0.238443   0.473684     0.055556\n",
       "8   0.333333     0.166524   0.500000     0.416667\n",
       "9   0.111111     0.052423   0.346154     0.000000\n",
       "10  0.111111     0.052423   0.346154     0.000000"
      ]
     },
     "execution_count": 5,
     "metadata": {},
     "output_type": "execute_result"
    }
   ],
   "source": [
    "centrality_df_sorted"
   ]
  },
  {
   "cell_type": "markdown",
   "id": "dda1a182",
   "metadata": {},
   "source": [
    "### TASK 2.3: Draw the graph with node size proportional to eigenvector centrality"
   ]
  },
  {
   "cell_type": "code",
   "execution_count": 6,
   "id": "51619b7d",
   "metadata": {},
   "outputs": [
    {
     "data": {
      "image/png": "[encoded data removed]",
      "text/plain": [
       "<Figure size 640x480 with 1 Axes>"
      ]
     },
     "metadata": {},
     "output_type": "display_data"
    }
   ],
   "source": [
    "node_sizes = [10000 * eigenvector_centrality[node] for node in G1.nodes()] # multiplying by 10000 because the nodes aren't visible otherwise\n",
    "nx.draw(G1, **opts, node_size=node_sizes)"
   ]
  },
  {
   "cell_type": "markdown",
   "id": "f76aacf2",
   "metadata": {},
   "source": [
    "### TASK 2.4: Make your own example\n",
    "\n",
    "If TASK 2.3 went as intended, you should find that, for $G_1$, Node **4** had both the greatest closeness and betweenness centrality. Make up an example of a graph, $G_2$, which the node with the greatest closeness centrality is different from the one with the greatest betweenness centrality. Define and draw the graph in `networkx`, and compute the centralities to verify your result.\n",
    "\n",
    "*WARNING* You have to construct this example yourself. Do not try to use the same graph as anyone other than a listed collaborator."
   ]
  },
  {
   "cell_type": "code",
   "execution_count": 7,
   "id": "e09a9ffe",
   "metadata": {},
   "outputs": [],
   "source": [
    "G2 = nx.Graph()\n",
    "\n",
    "edges = [\n",
    "    # define two separate star graphs, wherein the highest betweenness will be the central node \n",
    "    (0,1), (0,2), (0,3), (0,5),\n",
    "    (7,8), (7,9), (7,10), (7,11),\n",
    "\n",
    "    # create a bridge node between the two star graphs, thus having the highest betweenness\n",
    "    (12,7), (12,0)\n",
    "]\n",
    "\n",
    "G2.add_edges_from(edges)"
   ]
  },
  {
   "cell_type": "markdown",
   "id": "f46bca53",
   "metadata": {},
   "source": [
    "Don't remove the following cell. It will plot your network, `G2`, and identify the nodes with greatest betweenness and closeness centralities."
   ]
  },
  {
   "cell_type": "code",
   "execution_count": 8,
   "id": "a76e5712",
   "metadata": {},
   "outputs": [
    {
     "name": "stdout",
     "output_type": "stream",
     "text": [
      "Node 0 has the greatest betweenness, and Node 12 has the max closeness\n"
     ]
    },
    {
     "data": {
      "image/png": "[encoded data removed]",
      "text/plain": [
       "<Figure size 640x480 with 1 Axes>"
      ]
     },
     "metadata": {},
     "output_type": "display_data"
    }
   ],
   "source": [
    "### Do not delete this cell. It has an overly-elaborate way of showing the difference in centralities.\n",
    "CC = nx.closeness_centrality(G2)\n",
    "BC = nx.betweenness_centrality(G2)\n",
    "\n",
    "max_betweenness = max(BC, key=BC.get)\n",
    "max_closeness = max(CC, key=CC.get)\n",
    "print(f\"Node {max_betweenness} has the greatest betweenness, and Node {max_closeness} has the max closeness\")\n",
    "# Node colors: highlight key nodes\n",
    "node_colors = []\n",
    "for node in G2.nodes():\n",
    "    if node == max_betweenness:\n",
    "        node_colors.append(\"pink\")  # Highest betweenness\n",
    "    elif node == max_closeness:\n",
    "        node_colors.append(\"skyblue\")  # Highest closeness\n",
    "    else:\n",
    "        node_colors.append(\"lightgray\")\n",
    "\n",
    "nx.draw(G2, with_labels=True, node_color=node_colors, edge_color=\"black\", node_size=1000, font_size=14)\n"
   ]
  },
  {
   "cell_type": "markdown",
   "id": "57dfc616",
   "metadata": {},
   "source": [
    "## Random Networks\n",
    "\n",
    "We'll learn in class that one way in which ER models don't reflect some real-world networks in that they tend to have fewer triangles (3-cycles) than real-world graphs.  Here a _triangle_ in $G$ means a subgraph that is isomorphic to $C_3$. So, for example, $C_3$ has 1 triangle, and the [Wheel Graph, $W_n$](https://en.wikipedia.org/wiki/Wheel_graph) has $n-1$.\n",
    "\n",
    "One way to count all the triangles in a graph is as folllows:\n",
    "1. Compute the adjacency matrix, $A$, of $G$\n",
    "2. Compute $B=A^3$. Note that $b_{ij}$ is twice the number of paths of length 3 from $i$ to $j$. And, in particular, $b_{ii}$ is the number of 3-cycles involving Node $i$. Note: $b_{ii}$ double counts the number of triangles involving $i$ because, if $i \\to j \\to k \\to i$ is a 3-cycle, so too is $i \\to k \\to j \\to i$. \n",
    "3. Compute the _trace_ of $B$ (i.e., the sum the diagonal entries in $B$), and divide by 6 to calculate the number of 3-cycles. \n",
    "\n",
    "Asides:\n",
    "* It is not a homework question, but work out why you should divide the trace of $B$ by 6.\n",
    "* Well done: you've just come up with a proof that the trace of the cube of any $0-1$ matrix is divisible by 6.\n",
    "\n"
   ]
  },
  {
   "cell_type": "markdown",
   "id": "ec032666",
   "metadata": {},
   "source": [
    "### TASK 3.1: Count Triangles\n",
    "\n",
    "Write a function (**with some sensible name of your own choosing**) that takes as its input a graph, and returns the total number of triangles in $G$. \n",
    "Tip: `np.trace()` returns the trace of a 2D numpy array."
   ]
  },
  {
   "cell_type": "code",
   "execution_count": 25,
   "id": "971ba5cf",
   "metadata": {},
   "outputs": [],
   "source": [
    "def num_triangles(G):\n",
    "    A = nx.adjacency_matrix(G).todense()\n",
    "    A_bin = (A != 0).astype(int) # handle weighted edges\n",
    "\n",
    "    B = np.linalg.matrix_power(A_bin, 3)\n",
    "    trace = np.trace(B)\n",
    "    return int(trace / 6)"
   ]
  },
  {
   "cell_type": "markdown",
   "id": "b7c1f565",
   "metadata": {},
   "source": [
    "Verify that your function works by checking that, e.g., the graph returned by `nx.wheel_graph(5)` has 4 triangles."
   ]
  },
  {
   "cell_type": "code",
   "execution_count": 26,
   "id": "582a7740",
   "metadata": {},
   "outputs": [
    {
     "data": {
      "text/plain": [
       "4"
      ]
     },
     "execution_count": 26,
     "metadata": {},
     "output_type": "execute_result"
    }
   ],
   "source": [
    "num_triangles(nx.wheel_graph(5))"
   ]
  },
  {
   "cell_type": "markdown",
   "id": "944614ef",
   "metadata": {},
   "source": [
    "### TASK 3.2: Comparing $G_{ER}(n,m)$ with graphs from social science\n",
    "\n",
    "`networkx` comes with some generators from graphs that are much-studied in the network science.\n",
    "In [Week7: Part 2](https://www.niallmadden.ie/2425-CS4423/W07/CS4423-W07-Part-2.html#Example:-15th-century-Florentine-marriages) we considered the _Florentine Families_ graph, which is generate by `nx.florentine_families_graph()`. There are others such as \n",
    "* The [Karate Club Graph](https://en.wikipedia.org/wiki/Zachary%27s_karate_club) which is generated using `nx.karate_club_graph()`\n",
    "* The (Les Miserables network)[https://networkx.org/documentation/stable/reference/generated/networkx.generators.social.les_miserables_graph.html] generated by `nx.les_miserables_graph()`\n"
   ]
  },
  {
   "cell_type": "markdown",
   "id": "16fcc76c",
   "metadata": {},
   "source": [
    "For each of the three networks mentioned above:\n",
    "* Generate the graph, and output the number of order and  size of the network, and the number of triangles it has.\n",
    "* Use `nx.gnm_random_graph()` to make a graph drawn from $G_{ER}(n,m)$ that has the same size and order. Output how many triangles it has. "
   ]
  },
  {
   "cell_type": "code",
   "execution_count": 27,
   "id": "459dae88",
   "metadata": {},
   "outputs": [
    {
     "name": "stdout",
     "output_type": "stream",
     "text": [
      "Florentine order: 15\n",
      "Florentine size: 20\n",
      "Florentine number of triangles: 3\n",
      "GER number of triangles: 4\n"
     ]
    }
   ],
   "source": [
    "florentine = nx.florentine_families_graph()\n",
    "order = florentine.number_of_nodes()\n",
    "size = florentine.number_of_edges()\n",
    "triangles = num_triangles(florentine)\n",
    "\n",
    "print(\"Florentine order: \" + str(order))\n",
    "print(\"Florentine size: \" + str(size))\n",
    "print(\"Florentine number of triangles: \" + str(triangles))\n",
    "\n",
    "ger = nx.gnm_random_graph(order, size)\n",
    "print(\"GER number of triangles: \" + str(num_triangles(ger)))"
   ]
  },
  {
   "cell_type": "code",
   "execution_count": 28,
   "id": "c84c4df4",
   "metadata": {},
   "outputs": [
    {
     "name": "stdout",
     "output_type": "stream",
     "text": [
      "Karate Club order: 34\n",
      "Karate Club size: 78\n",
      "Karate Club number of triangles: 45\n",
      "GER number of triangles: 21\n"
     ]
    }
   ],
   "source": [
    "karate = nx.karate_club_graph()\n",
    "order = karate.number_of_nodes()\n",
    "size = karate.number_of_edges()\n",
    "triangles = num_triangles(karate)\n",
    "\n",
    "print(\"Karate Club order: \" + str(order))\n",
    "print(\"Karate Club size: \" + str(size))\n",
    "print(\"Karate Club number of triangles: \" + str(triangles))\n",
    "\n",
    "ger = nx.gnm_random_graph(order, size)\n",
    "print(\"GER number of triangles: \" + str(num_triangles(ger)))\n"
   ]
  },
  {
   "cell_type": "code",
   "execution_count": 30,
   "id": "6fcedf05",
   "metadata": {},
   "outputs": [
    {
     "name": "stdout",
     "output_type": "stream",
     "text": [
      "Les Miserables order: 77\n",
      "Les Miserables size: 254\n",
      "Les Miserables number of triangles: 467\n",
      "GER number of triangles: 45\n"
     ]
    }
   ],
   "source": [
    "mis = nx.les_miserables_graph()\n",
    "order = mis.number_of_nodes()\n",
    "size = mis.number_of_edges()\n",
    "triangles = num_triangles(mis)\n",
    "\n",
    "print(\"Les Miserables order: \" + str(order))\n",
    "print(\"Les Miserables size: \" + str(size))\n",
    "print(\"Les Miserables number of triangles: \" + str(triangles))\n",
    "\n",
    "ger = nx.gnm_random_graph(order, size)\n",
    "print(\"GER number of triangles: \" + str(num_triangles(ger)))"
   ]
  },
  {
   "cell_type": "markdown",
   "id": "2e1d165d",
   "metadata": {},
   "source": [
    "## Extras \n",
    "\n",
    "The following isn't part of the assignment, but you might find it interesting:\n",
    "1. Use `np.linspace(0,1,100)` to create an array of probabilities. \n",
    "2. For $n=100$ make a $G_{ER}(n,p)$ graph with the values of $p$ drawn from above, and count the number of triangles. Call this $T(G)$.\n",
    "3. I conjecture that $T(G)/m(G) \\approx C p^2$, for some constant $C$ that depends on $n$. Try to produce a plot that supports (or refutes) this conjecture, and try to estimate $C$"
   ]
  }
 ],
 "metadata": {
  "kernelspec": {
   "display_name": "Python 3 (ipykernel)",
   "language": "python",
   "name": "python3"
  },
  "language_info": {
   "codemirror_mode": {
    "name": "ipython",
    "version": 3
   },
   "file_extension": ".py",
   "mimetype": "text/x-python",
   "name": "python",
   "nbconvert_exporter": "python",
   "pygments_lexer": "ipython3",
   "version": "3.13.2"
  },
  "toc": {
   "base_numbering": 1,
   "nav_menu": {},
   "number_sections": true,
   "sideBar": true,
   "skip_h1_title": true,
   "title_cell": "Table of Contents",
   "title_sidebar": "Contents",
   "toc_cell": true,
   "toc_position": {},
   "toc_section_display": true,
   "toc_window_display": false
  },
  "varInspector": {
   "cols": {
    "lenName": 16,
    "lenType": 16,
    "lenVar": 40
   },
   "kernels_config": {
    "python": {
     "delete_cmd_postfix": "",
     "delete_cmd_prefix": "del ",
     "library": "var_list.py",
     "varRefreshCmd": "print(var_dic_list())"
    },
    "r": {
     "delete_cmd_postfix": ") ",
     "delete_cmd_prefix": "rm(",
     "library": "var_list.r",
     "varRefreshCmd": "cat(var_dic_list()) "
    }
   },
   "types_to_exclude": [
    "module",
    "function",
    "builtin_function_or_method",
    "instance",
    "_Feature"
   ],
   "window_display": false
  }
 },
 "nbformat": 4,
 "nbformat_minor": 5
}
